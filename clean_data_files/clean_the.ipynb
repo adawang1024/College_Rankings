{
 "cells": [
  {
   "cell_type": "code",
   "execution_count": 3,
   "metadata": {},
   "outputs": [
    {
     "name": "stdout",
     "output_type": "stream",
     "text": [
      "                            Name  THE_rank  THE_US_rank 2022  \\\n",
      "0                Amherst College         1                22   \n",
      "1               Williams College         2                23   \n",
      "2                 Pomona College         3                25   \n",
      "3             Swarthmore College         4                29   \n",
      "4              Wellesley College         5                31   \n",
      "..                           ...       ...               ...   \n",
      "95               Rollins College        96               264   \n",
      "96                  Hope College        96               264   \n",
      "97                Luther College        98               269   \n",
      "98  Augustana College (Illinois)        99               271   \n",
      "99                  Bard College       100               273   \n",
      "\n",
      "                   City          State state  \n",
      "0               Amherst  Massachusetts    MA  \n",
      "1          Williamstown  Massachusetts    MA  \n",
      "2             Claremont     California    CA  \n",
      "3            Swarthmore   Pennsylvania    PA  \n",
      "4             Wellesley  Massachusetts    MA  \n",
      "..                  ...            ...   ...  \n",
      "95          Winter Park        Florida    FL  \n",
      "96              Holland       Michigan    MI  \n",
      "97              Decorah           Iowa    IA  \n",
      "98          Rock Island       Illinois    IL  \n",
      "99  Annandale-On-Hudson       New York    NY  \n",
      "\n",
      "[100 rows x 6 columns]\n"
     ]
    }
   ],
   "source": [
    "import pandas as pd\n",
    "data = pd.read_csv(\"/Users/ada1024/Desktop/Ranking/rank_with_state/the_lac.csv\")\n",
    "df = pd.DataFrame(data)\n",
    "\n",
    "# Mapping of full state names to their abbreviations\n",
    "state_abbreviations = {\n",
    "    'Alabama': 'AL',\n",
    "    'Alaska': 'AK',\n",
    "    'Arizona': 'AZ',\n",
    "    'Arkansas': 'AR',\n",
    "    'California': 'CA',\n",
    "    'Colorado': 'CO',\n",
    "    'Connecticut': 'CT',\n",
    "    'Delaware': 'DE',\n",
    "    'Florida': 'FL',\n",
    "    'Georgia': 'GA',\n",
    "    'Hawaii': 'HI',\n",
    "    'Idaho': 'ID',\n",
    "    'Illinois': 'IL',\n",
    "    'Indiana': 'IN',\n",
    "    'Iowa': 'IA',\n",
    "    'Kansas': 'KS',\n",
    "    'Kentucky': 'KY',\n",
    "    'Louisiana': 'LA',\n",
    "    'Maine': 'ME',\n",
    "    'Maryland': 'MD',\n",
    "    'Massachusetts': 'MA',\n",
    "    'Michigan': 'MI',\n",
    "    'Minnesota': 'MN',\n",
    "    'Mississippi': 'MS',\n",
    "    'Missouri': 'MO',\n",
    "    'Montana': 'MT',\n",
    "    'Nebraska': 'NE',\n",
    "    'Nevada': 'NV',\n",
    "    'New Hampshire': 'NH',\n",
    "    'New Jersey': 'NJ',\n",
    "    'New Mexico': 'NM',\n",
    "    'New York': 'NY',\n",
    "    'North Carolina': 'NC',\n",
    "    'North Dakota': 'ND',\n",
    "    'Ohio': 'OH',\n",
    "    'Oklahoma': 'OK',\n",
    "    'Oregon': 'OR',\n",
    "    'Pennsylvania': 'PA',\n",
    "    'Rhode Island': 'RI',\n",
    "    'South Carolina': 'SC',\n",
    "    'South Dakota': 'SD',\n",
    "    'Tennessee': 'TN',\n",
    "    'Texas': 'TX',\n",
    "    'Utah': 'UT',\n",
    "    'Vermont': 'VT',\n",
    "    'Virginia': 'VA',\n",
    "    'Washington': 'WA',\n",
    "    'West Virginia': 'WV',\n",
    "    'Wisconsin': 'WI',\n",
    "    'Wyoming': 'WY',\n",
    "}\n",
    "\n",
    "# Map the full state names to their abbreviations\n",
    "df['state'] = df['State'].map(state_abbreviations)\n",
    "\n",
    "# Display the updated DataFrame\n",
    "print(df)\n"
   ]
  },
  {
   "cell_type": "code",
   "execution_count": 4,
   "metadata": {},
   "outputs": [],
   "source": [
    "df.to_csv(\"modified_the.csv\")"
   ]
  }
 ],
 "metadata": {
  "kernelspec": {
   "display_name": "Python 3",
   "language": "python",
   "name": "python3"
  },
  "language_info": {
   "codemirror_mode": {
    "name": "ipython",
    "version": 3
   },
   "file_extension": ".py",
   "mimetype": "text/x-python",
   "name": "python",
   "nbconvert_exporter": "python",
   "pygments_lexer": "ipython3",
   "version": "3.11.1"
  }
 },
 "nbformat": 4,
 "nbformat_minor": 2
}
